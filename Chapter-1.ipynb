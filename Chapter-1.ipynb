{
 "cells": [
  {
   "cell_type": "markdown",
   "metadata": {},
   "source": [
    "# Chapter -1"
   ]
  },
  {
   "cell_type": "markdown",
   "metadata": {},
   "source": [
    "This is a paragraph. Describe about the chapter/project. This is a paragraph. Describe about the chapter/project. This is a paragraph. Describe about the chapter/project. This is a paragraph. Describe about the chapter/project. This is a paragraph. Describe about the chapter/project. This is a paragraph. Describe about the chapter/project. This is a paragraph. Describe about the chapter/project. This is a paragraph. Describe about the chapter/project.\n",
    "\n",
    "$ x^{2} + y^{2} + z^{2} = a^{2}$"
   ]
  },
  {
   "cell_type": "markdown",
   "metadata": {},
   "source": [
    "##  This is Subtitle"
   ]
  },
  {
   "cell_type": "code",
   "execution_count": 2,
   "metadata": {},
   "outputs": [],
   "source": [
    "import numpy as np\n",
    "import matplotlib.pyplot as plt"
   ]
  },
  {
   "cell_type": "markdown",
   "metadata": {},
   "source": [
    "### This is sub-sub title"
   ]
  },
  {
   "cell_type": "markdown",
   "metadata": {},
   "source": [
    "This is a paragraph. Describe about the chapter/project. This is a paragraph. Describe about the chapter/project. This is a paragraph. Describe about the chapter/project. This is a paragraph. Describe about the chapter/project. This is a paragraph. Describe about the chapter/project. This is a paragraph. Describe about the chapter/project. This is a paragraph. Describe about the chapter/project. This is a paragraph. Describe about the chapter/project.\n",
    "\n",
    "**This plot is from internet:**\n",
    "\n",
    "![img](https://miro.medium.com/max/1200/0*l7K8IfdnGGMhdtF7.png)\n",
    "[Image Courtesy or Name et. al.,arxive:12345](https://miro.medium.com/max/1200/0*l7K8IfdnGGMhdtF7.png)"
   ]
  },
  {
   "cell_type": "markdown",
   "metadata": {},
   "source": [
    "**This plot is from local computer**\n",
    "\n",
    "![img](graph.png)\n",
    "\n"
   ]
  },
  {
   "cell_type": "code",
   "execution_count": null,
   "metadata": {},
   "outputs": [],
   "source": []
  }
 ],
 "metadata": {
  "kernelspec": {
   "display_name": "Python 3",
   "language": "python",
   "name": "python3"
  },
  "language_info": {
   "codemirror_mode": {
    "name": "ipython",
    "version": 3
   },
   "file_extension": ".py",
   "mimetype": "text/x-python",
   "name": "python",
   "nbconvert_exporter": "python",
   "pygments_lexer": "ipython3",
   "version": "3.7.6"
  }
 },
 "nbformat": 4,
 "nbformat_minor": 4
}
